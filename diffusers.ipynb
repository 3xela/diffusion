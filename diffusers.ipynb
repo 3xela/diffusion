{
 "cells": [
  {
   "cell_type": "markdown",
   "id": "c8c0ba89-eeea-4bdc-9487-936fab6c259f",
   "metadata": {},
   "source": [
    "### Load CIFAR-10 diffusion model\n",
    "\n",
    "- https://huggingface.co/google/ddpm-cifar10-32"
   ]
  },
  {
   "cell_type": "code",
   "execution_count": 1,
   "id": "40b73480-9659-4302-b60c-addc70c943d3",
   "metadata": {},
   "outputs": [
    {
     "name": "stderr",
     "output_type": "stream",
     "text": [
      "/home/anton/source/diffusion/venv/lib/python3.11/site-packages/tqdm/auto.py:21: TqdmWarning: IProgress not found. Please update jupyter and ipywidgets. See https://ipywidgets.readthedocs.io/en/stable/user_install.html\n",
      "  from .autonotebook import tqdm as notebook_tqdm\n",
      "/home/anton/source/diffusion/venv/lib/python3.11/site-packages/diffusers/utils/outputs.py:63: UserWarning: torch.utils._pytree._register_pytree_node is deprecated. Please use torch.utils._pytree.register_pytree_node instead.\n",
      "  torch.utils._pytree._register_pytree_node(\n",
      "Loading pipeline components...: 100%|█████████████| 2/2 [00:00<00:00, 31.16it/s]\n",
      "100%|███████████████████████████████████████| 1000/1000 [01:05<00:00, 15.37it/s]\n"
     ]
    }
   ],
   "source": [
    "from diffusers import DDPMPipeline, DDIMPipeline, PNDMPipeline\n",
    "\n",
    "model_id = \"google/ddpm-cifar10-32\"\n",
    "\n",
    "# load model and scheduler\n",
    "ddpm = DDPMPipeline.from_pretrained(model_id)  # you can replace DDPMPipeline with DDIMPipeline or PNDMPipeline for faster inference\n",
    "\n",
    "# run pipeline in inference (sample random noise and denoise)\n",
    "image = ddpm().images[0]\n",
    "\n",
    "# save image\n",
    "image.save(\"ddpm_generated_image.png\")"
   ]
  }
 ],
 "metadata": {
  "kernelspec": {
   "display_name": "diffusion",
   "language": "python",
   "name": "diffusion"
  },
  "language_info": {
   "codemirror_mode": {
    "name": "ipython",
    "version": 3
   },
   "file_extension": ".py",
   "mimetype": "text/x-python",
   "name": "python",
   "nbconvert_exporter": "python",
   "pygments_lexer": "ipython3",
   "version": "3.11.6"
  }
 },
 "nbformat": 4,
 "nbformat_minor": 5
}
